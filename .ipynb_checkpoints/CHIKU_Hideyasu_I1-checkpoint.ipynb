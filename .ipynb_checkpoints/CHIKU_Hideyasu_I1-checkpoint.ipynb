{
 "cells": [
  {
   "cell_type": "code",
   "execution_count": 1,
   "metadata": {},
   "outputs": [],
   "source": [
    "import numpy\n",
    "\n",
    "# # In this program, assume the following input\n",
    "# \"\"\"\n",
    "# 2,1\n",
    "# 5,6\n",
    "# \"\"\"\n",
    "# import sys\n",
    "#\n",
    "# compA = input(\"Enter the first complex number in the form \"\"2,1\"\">>\").split(\",\")\n",
    "# compB = input(\"Enter the second complex number in the form \"\"5,6\"\">>\").split(\",\")\n",
    "#\n",
    "# A = complex(int(compA[0]),int(compA[1]))\n",
    "# B = complex(int(compB[0]),int(compB[1]))\n",
    "#\n",
    "# print('{:.2f}'.format(A+B))\n",
    "# print('{:.2f}'.format(A-B))\n",
    "# print('{:.2f}'.format(A*B))\n",
    "# dev = A/B\n",
    "# print('{:.2f}'.format(dev))\n",
    "# print('{:.2f}'.format(abs(A)))\n",
    "# print('{:.2f}'.format(abs(B)))\n"
   ]
  },
  {
   "cell_type": "code",
   "execution_count": null,
   "metadata": {},
   "outputs": [],
   "source": []
  }
 ],
 "metadata": {
  "kernelspec": {
   "display_name": "train",
   "language": "python",
   "name": "train"
  },
  "language_info": {
   "codemirror_mode": {
    "name": "ipython",
    "version": 3
   },
   "file_extension": ".py",
   "mimetype": "text/x-python",
   "name": "python",
   "nbconvert_exporter": "python",
   "pygments_lexer": "ipython3",
   "version": "3.7.3"
  }
 },
 "nbformat": 4,
 "nbformat_minor": 2
}
