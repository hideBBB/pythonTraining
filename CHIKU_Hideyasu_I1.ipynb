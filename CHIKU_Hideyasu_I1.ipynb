{
 "cells": [
  {
   "cell_type": "code",
   "execution_count": 3,
   "metadata": {},
   "outputs": [
    {
     "ename": "ModuleNotFoundError",
     "evalue": "No module named 'numpy'",
     "output_type": "error",
     "traceback": [
      "\u001b[1;31m---------------------------------------------------------------------------\u001b[0m",
      "\u001b[1;31mModuleNotFoundError\u001b[0m                       Traceback (most recent call last)",
      "\u001b[1;32m<ipython-input-3-b9e74ba4e917>\u001b[0m in \u001b[0;36m<module>\u001b[1;34m\u001b[0m\n\u001b[1;32m----> 1\u001b[1;33m \u001b[1;32mimport\u001b[0m \u001b[0mnumpy\u001b[0m\u001b[1;33m\u001b[0m\u001b[1;33m\u001b[0m\u001b[0m\n\u001b[0m\u001b[0;32m      2\u001b[0m \u001b[1;33m\u001b[0m\u001b[0m\n\u001b[0;32m      3\u001b[0m \u001b[0mprint\u001b[0m\u001b[1;33m(\u001b[0m\u001b[1;34m\"hello\"\u001b[0m\u001b[1;33m)\u001b[0m\u001b[1;33m\u001b[0m\u001b[1;33m\u001b[0m\u001b[0m\n\u001b[0;32m      4\u001b[0m \u001b[1;33m\u001b[0m\u001b[0m\n\u001b[0;32m      5\u001b[0m \u001b[1;31m# # In this program, assume the following input\u001b[0m\u001b[1;33m\u001b[0m\u001b[1;33m\u001b[0m\u001b[1;33m\u001b[0m\u001b[0m\n",
      "\u001b[1;31mModuleNotFoundError\u001b[0m: No module named 'numpy'"
     ]
    }
   ],
   "source": [
    "import numpy\n",
    "\n",
    "print(\"hello\")\n",
    "\n",
    "# # In this program, assume the following input\n",
    "# \"\"\"\n",
    "# 2,1\n",
    "# 5,6\n",
    "# \"\"\"\n",
    "# import sys\n",
    "#\n",
    "# compA = input(\"Enter the first complex number in the form \"\"2,1\"\">>\").split(\",\")\n",
    "# compB = input(\"Enter the second complex number in the form \"\"5,6\"\">>\").split(\",\")\n",
    "#\n",
    "# A = complex(int(compA[0]),int(compA[1]))\n",
    "# B = complex(int(compB[0]),int(compB[1]))\n",
    "#\n",
    "# print('{:.2f}'.format(A+B))\n",
    "# print('{:.2f}'.format(A-B))\n",
    "# print('{:.2f}'.format(A*B))\n",
    "# dev = A/B\n",
    "# print('{:.2f}'.format(dev))\n",
    "# print('{:.2f}'.format(abs(A)))\n",
    "# print('{:.2f}'.format(abs(B)))\n"
   ]
  },
  {
   "cell_type": "code",
   "execution_count": null,
   "metadata": {},
   "outputs": [],
   "source": []
  }
 ],
 "metadata": {
  "kernelspec": {
   "display_name": "Python 3",
   "language": "python",
   "name": "python3"
  },
  "language_info": {
   "codemirror_mode": {
    "name": "ipython",
    "version": 3
   },
   "file_extension": ".py",
   "mimetype": "text/x-python",
   "name": "python",
   "nbconvert_exporter": "python",
   "pygments_lexer": "ipython3",
   "version": "3.7.3"
  }
 },
 "nbformat": 4,
 "nbformat_minor": 2
}
