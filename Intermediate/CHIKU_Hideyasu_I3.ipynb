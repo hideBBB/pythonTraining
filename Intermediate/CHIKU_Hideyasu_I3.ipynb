{
 "cells": [
  {
   "cell_type": "markdown",
   "metadata": {},
   "source": [
    "コサイン類似度\n",
    "　ベクトル同士の成す角がどれだけか。1に近いほど類似している\n",
    "　cos(a,b) = (a・b)/|a||b|\n",
    " \n",
    "ベクトルの各次元の値を二乗した和の平方根をL2ノルムという（ユークリッド距離）"
   ]
  },
  {
   "cell_type": "code",
   "execution_count": 4,
   "metadata": {},
   "outputs": [
    {
     "name": "stdin",
     "output_type": "stream",
     "text": [
      "Enter a fileName containing vector info>> I3\n"
     ]
    },
    {
     "name": "stdout",
     "output_type": "stream",
     "text": [
      "-0.7826148089945608\n"
     ]
    }
   ],
   "source": [
    "# In this program, assume the following input\n",
    "\"\"\"\n",
    "1 10 5 -1\n",
    "2 -3 -1 0\n",
    "\"\"\"\n",
    "import numpy as np\n",
    "\n",
    "def cos_sim(v1, v2):\n",
    "    return np.dot(v1, v2) / (np.linalg.norm(v1) * np.linalg.norm(v2))\n",
    "\n",
    "fileName = input(\"Enter a fileName containing vector info>>\")\n",
    "\n",
    "fo = open(fileName,\"r\")\n",
    "\n",
    "def createVec():\n",
    "    \"create vector from file\"\n",
    "    arr = fo.readline().strip().replace(\"\\n\",\"\").split(\" \")\n",
    "\n",
    "    vec = np.array(arr)\n",
    "\n",
    "    # convert to int\n",
    "    vec = vec.astype(np.int8)\n",
    "\n",
    "    return vec\n",
    "\n",
    "vec1 = createVec()\n",
    "vec2 = createVec()\n",
    "\n",
    "fo.close()\n",
    "\n",
    "print(cos_sim(vec1,vec2))\n"
   ]
  }
 ],
 "metadata": {
  "kernelspec": {
   "display_name": "train",
   "language": "python",
   "name": "train"
  },
  "language_info": {
   "codemirror_mode": {
    "name": "ipython",
    "version": 3
   },
   "file_extension": ".py",
   "mimetype": "text/x-python",
   "name": "python",
   "nbconvert_exporter": "python",
   "pygments_lexer": "ipython3",
   "version": "3.7.3"
  }
 },
 "nbformat": 4,
 "nbformat_minor": 2
}
